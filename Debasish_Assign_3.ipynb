{
 "cells": [
  {
   "cell_type": "code",
   "execution_count": 1,
   "metadata": {},
   "outputs": [
    {
     "name": "stdout",
     "output_type": "stream",
     "text": [
      "Error dividing by zero\n"
     ]
    }
   ],
   "source": [
    "# Session-3 : Assigment-1\n",
    "\n",
    "#Task 1: 1\n",
    "\n",
    "# Write a function to compute 5/0 and use try/except to catch the exceptions\n",
    "def compute(p,q):\n",
    "    try:\n",
    "        x = p / q\n",
    "    except:\n",
    "        print(\"Error dividing by zero\")\n",
    "    #return x\n",
    "\n",
    "compute(5,0)"
   ]
  },
  {
   "cell_type": "code",
   "execution_count": 2,
   "metadata": {},
   "outputs": [
    {
     "name": "stdout",
     "output_type": "stream",
     "text": [
      "Americans play Baseball\n",
      "Americans play Cricket\n",
      "Americans watch Baseball\n",
      "Americans watch Cricket\n",
      "Indians play Baseball\n",
      "Indians play Cricket\n",
      "Indians watch Baseball\n",
      "Indians watch Cricket\n"
     ]
    }
   ],
   "source": [
    "# Session-3 : Assigment-1\n",
    "\n",
    "#Task 1: 2\n",
    "\n",
    "# Implement a Python program to generate all sentences where subject is in [\"Americans\",\n",
    "# \"Indians\"] and verb is in [\"Play\", \"watch\"] and the object is in [\"Baseball\",\"cricket\"].\n",
    "# Hint: Subject,Verb and Object should be declared in the program as shown below.\n",
    "# subjects=[\"Americans \",\"Indians\"]\n",
    "# verbs=[\"play\",\"watch\"]\n",
    "# objects=[\"Baseball\",\"Cricket\"]\n",
    "\n",
    "subjects=[\"Americans\",\"Indians\"]\n",
    "verbs=[\"play\",\"watch\"]\n",
    "objects=[\"Baseball\",\"Cricket\"]\n",
    "\n",
    "sentence_list = [(sub+\" \"+ vb + \" \" + ob) for sub in subjects for vb in verbs for ob in objects]\n",
    "for sentence in sentence_list:\n",
    "    print (sentence)"
   ]
  },
  {
   "cell_type": "code",
   "execution_count": 3,
   "metadata": {},
   "outputs": [
    {
     "data": {
      "text/plain": [
       "array([[  1,   1,   1,   1],\n",
       "       [  8,   4,   2,   1],\n",
       "       [ 27,   9,   3,   1],\n",
       "       [125,  25,   5,   1]])"
      ]
     },
     "execution_count": 3,
     "metadata": {},
     "output_type": "execute_result"
    }
   ],
   "source": [
    "# Session-3 : Assigment-1\n",
    "\n",
    "#Task 2: 1\n",
    "\n",
    "# Write a function so that the columns of the output matrix are powers of the input vector.\n",
    "\n",
    "# The order of the powers is determined by the increasing boolean argument. Specifically, when\n",
    "# increasing is False, the i-th output column is the input vector raised element-wise to the power\n",
    "# of N - i - 1.\n",
    "\n",
    "# HINT: Such a matrix with a geometric progression in each row is named for Alexandre-\n",
    "# Theophile Vandermonde.\n",
    "\n",
    "import numpy as np\n",
    "x = np.array([1, 2, 3, 5])\n",
    "N = 3\n",
    "v = [x**(N-1-i) for i in range(N)]\n",
    "np.column_stack(v)\n",
    "#np.vander(x, N)\n",
    "\n",
    "x = np.array([1, 2, 3, 5])\n",
    "# N = len(x)\n",
    "# v = [x**(N-1-i) for i in range(N)]\n",
    "# np.column_stack(v)\n",
    "np.vander(x)\n",
    "\n",
    "np.vander(x, increasing=False)\n",
    "# np.vander(x, increasing=True)"
   ]
  }
 ],
 "metadata": {
  "kernelspec": {
   "display_name": "Python 3",
   "language": "python",
   "name": "python3"
  },
  "language_info": {
   "codemirror_mode": {
    "name": "ipython",
    "version": 3
   },
   "file_extension": ".py",
   "mimetype": "text/x-python",
   "name": "python",
   "nbconvert_exporter": "python",
   "pygments_lexer": "ipython3",
   "version": "3.7.0"
  }
 },
 "nbformat": 4,
 "nbformat_minor": 2
}
